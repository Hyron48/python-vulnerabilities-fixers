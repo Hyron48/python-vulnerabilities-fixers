{
  "nbformat": 4,
  "nbformat_minor": 0,
  "metadata": {
    "colab": {
      "provenance": [],
      "include_colab_link": true
    },
    "kernelspec": {
      "name": "python3",
      "display_name": "Python 3"
    },
    "language_info": {
      "name": "python"
    }
  },
  "cells": [
    {
      "cell_type": "markdown",
      "metadata": {
        "id": "view-in-github",
        "colab_type": "text"
      },
      "source": [
        "<a href=\"https://colab.research.google.com/github/Hyron48/python-vulnerabilities-fixers/blob/main/get_top_vulnerability_fixers.ipynb\" target=\"_parent\"><img src=\"https://colab.research.google.com/assets/colab-badge.svg\" alt=\"Open In Colab\"/></a>"
      ]
    },
    {
      "cell_type": "markdown",
      "source": [
        "# ***GET TOP VULNERABILITY FIXERS***"
      ],
      "metadata": {
        "id": "nHTxfx9q5Q70"
      }
    },
    {
      "cell_type": "markdown",
      "source": [
        "# First of all\n",
        "Run the following command to install GitPython, a Python library that provides an interface for interacting with the Git version control system."
      ],
      "metadata": {
        "id": "2hsCii9VX5IC"
      }
    },
    {
      "cell_type": "code",
      "source": [
        "!pip install gitpython"
      ],
      "metadata": {
        "colab": {
          "base_uri": "https://localhost:8080/"
        },
        "id": "ijSQ0PlTznDn",
        "outputId": "da4beec5-504d-45dd-9164-bc340c92ee59"
      },
      "execution_count": 1,
      "outputs": [
        {
          "output_type": "stream",
          "name": "stdout",
          "text": [
            "Collecting gitpython\n",
            "  Downloading GitPython-3.1.42-py3-none-any.whl (195 kB)\n",
            "\u001b[2K     \u001b[90m━━━━━━━━━━━━━━━━━━━━━━━━━━━━━━━━━━━━━━━━\u001b[0m \u001b[32m195.4/195.4 kB\u001b[0m \u001b[31m2.3 MB/s\u001b[0m eta \u001b[36m0:00:00\u001b[0m\n",
            "\u001b[?25hCollecting gitdb<5,>=4.0.1 (from gitpython)\n",
            "  Downloading gitdb-4.0.11-py3-none-any.whl (62 kB)\n",
            "\u001b[2K     \u001b[90m━━━━━━━━━━━━━━━━━━━━━━━━━━━━━━━━━━━━━━━━\u001b[0m \u001b[32m62.7/62.7 kB\u001b[0m \u001b[31m3.9 MB/s\u001b[0m eta \u001b[36m0:00:00\u001b[0m\n",
            "\u001b[?25hCollecting smmap<6,>=3.0.1 (from gitdb<5,>=4.0.1->gitpython)\n",
            "  Downloading smmap-5.0.1-py3-none-any.whl (24 kB)\n",
            "Installing collected packages: smmap, gitdb, gitpython\n",
            "Successfully installed gitdb-4.0.11 gitpython-3.1.42 smmap-5.0.1\n"
          ]
        }
      ]
    },
    {
      "cell_type": "markdown",
      "source": [
        "# Import modules\n",
        "Import the following modules:\n",
        "\n",
        "**git** --> Interacting with the Git repository from Python\n",
        "\n",
        "**Counter** --> Counter\n",
        "\n",
        "**re** --> Regex Expression"
      ],
      "metadata": {
        "id": "pBCNj_pWYP-3"
      }
    },
    {
      "cell_type": "code",
      "source": [
        "import git\n",
        "from collections import Counter\n",
        "import re"
      ],
      "metadata": {
        "id": "7BPqZhTn7M2A"
      },
      "execution_count": 2,
      "outputs": []
    },
    {
      "cell_type": "markdown",
      "source": [
        "# (FIRST TIME) Clone the Repository\n",
        "For the first run, clone the repository locally on Colab so you can access it easily."
      ],
      "metadata": {
        "id": "THCMqqj158si"
      }
    },
    {
      "cell_type": "code",
      "source": [
        "    repo_path = \"https://github.com/facebook/react.git\"\n",
        "    repo = git.Repo.clone_from(repo_path, \"/content/repository\")"
      ],
      "metadata": {
        "id": "vvcY4wRY57Dw"
      },
      "execution_count": 3,
      "outputs": []
    },
    {
      "cell_type": "markdown",
      "source": [
        "# (THE FOLLOWING TIMES) Access the cloned repository directly\n",
        "From the second time onwards, you will be able to directly access the previously downloaded repo"
      ],
      "metadata": {
        "id": "G4_1aNpFtEHF"
      }
    },
    {
      "cell_type": "code",
      "source": [
        "    repo = git.Repo(\"/content/repository\")"
      ],
      "metadata": {
        "id": "8eG4Fs_fuDhc"
      },
      "execution_count": 4,
      "outputs": []
    },
    {
      "cell_type": "markdown",
      "source": [
        "# Function ti filter commits\n",
        "- Creating a counter (developer_commits)\n",
        "\n",
        "- Search the message of each commit for the keyword \"fix\".\n",
        "\n",
        "- On the subset of commits thus obtained, filter again for the words: “security”, “vulnerability” or “vulnerabilities”."
      ],
      "metadata": {
        "id": "s7iLWyeE6duQ"
      }
    },
    {
      "cell_type": "code",
      "source": [
        "def get_top_vulnerability_fixers(repo_path, top_n=10):\n",
        "    developer_commits = Counter()\n",
        "\n",
        "\n",
        "    fix_pattern = re.compile(r'\\bfix\\b', flags=re.IGNORECASE)\n",
        "    keyword_pattern = re.compile(r'\\b(security|vulnerabilit(?:y|ies))\\b', flags=re.IGNORECASE)\n",
        "\n",
        "    for commit in repo.iter_commits():\n",
        "        if fix_pattern.search(commit.message):\n",
        "            if keyword_pattern.search(commit.message):\n",
        "                developer_commits[commit.author.name] += 1\n",
        "\n",
        "    top_developers = developer_commits.most_common(top_n)\n",
        "\n",
        "    return top_developers"
      ],
      "metadata": {
        "id": "uiVqlwY1ll-M"
      },
      "execution_count": 5,
      "outputs": []
    },
    {
      "cell_type": "markdown",
      "source": [
        "# Main\n",
        "- Execution of the above function\n",
        "- Print of result"
      ],
      "metadata": {
        "id": "AW-A9_IKvHZC"
      }
    },
    {
      "cell_type": "code",
      "execution_count": 6,
      "metadata": {
        "colab": {
          "base_uri": "https://localhost:8080/"
        },
        "id": "VEtc-4JjzdAI",
        "outputId": "6709fecf-6b98-4fdd-ce5a-840ee20eb048"
      },
      "outputs": [
        {
          "output_type": "stream",
          "name": "stdout",
          "text": [
            "Top 10 Developers with the Most Vulnerability Fixes:\n",
            "1. dependabot[bot]: 28 commits\n",
            "2. Sophie Alpert: 1 commits\n",
            "3. Sebastian Markbåge: 1 commits\n",
            "4. Dan Abramov: 1 commits\n",
            "5. Nick Reiley: 1 commits\n"
          ]
        }
      ],
      "source": [
        "if __name__ == \"__main__\":\n",
        "    top_fixers = get_top_vulnerability_fixers(repo_path)\n",
        "\n",
        "    print(\"Top 10 Developers with the Most Vulnerability Fixes:\")\n",
        "    for i, (developer, num_commits) in enumerate(top_fixers, start=1):\n",
        "        print(f\"{i}. {developer}: {num_commits} commits\")"
      ]
    }
  ]
}